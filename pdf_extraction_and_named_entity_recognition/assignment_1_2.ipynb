{
 "cells": [
  {
   "cell_type": "code",
   "execution_count": null,
   "id": "5c51d478",
   "metadata": {},
   "outputs": [],
   "source": [
    "# This notebook demostrate how to get main text blocks out of a pdf, the main text blocks are identified by pretrained model\n",
    "# privided by Detectron2(Facebook), this model get text and headings and tables as diffrent objects in output.\n",
    "# we used the below model https://github.com/ibm-aur-nlp/PubLayNet"
   ]
  },
  {
   "cell_type": "code",
   "execution_count": 42,
   "id": "ddc0e9fd",
   "metadata": {},
   "outputs": [],
   "source": [
    "#Layout(_blocks=[TextBlock(block=Rectangle(x_1=50.33146667480469, y_1=108.61450958251953, x_2=208.6129150390625, y_2=148.47357177734375), text=None, id=None, type=Text, parent=None, next=None, score=0.9963539838790894), TextBlock(block=Rectangle(x_1=50.34077453613281, y_1=492.1242370605469, x_2=209.06524658203125, y_2=715.4655151367188), text=None, id=None, type=Text, parent=None, next=None, score=0.9951556921005249), TextBlock(block=Rectangle(x_1=50.30836486816406, y_1=158.7543487548828, x_2=206.26492309570312, y_2=287.7823791503906), text=None, id=None, type=Text, parent=None, next=None, score=0.9948880076408386), TextBlock(block=Rectangle(x_1=221.88455200195312, y_1=412.1330871582031, x_2=490.6083679199219, y_2=782.9834594726562), text=None, id=None, type=Figure, parent=None, next=None, score=0.9882309436798096), TextBlock(block=Rectangle(x_1=51.05347442626953, y_1=298.5046081542969, x_2=206.3536834716797, y_2=378.11859130859375), text=None, id=None, type=Text, parent=None, next=None, score=0.9878895878791809), TextBlock(block=Rectangle(x_1=223.02687072753906, y_1=268.9040832519531, x_2=375.472412109375, y_2=378.18963623046875), text=None, id=None, type=Text, parent=None, next=None, score=0.9810667037963867), TextBlock(block=Rectangle(x_1=49.62458038330078, y_1=390.32415771484375, x_2=208.18748474121094, y_2=479.3470764160156), text=None, id=None, type=Text, parent=None, next=None, score=0.9764627814292908), TextBlock(block=Rectangle(x_1=221.10194396972656, y_1=160.15992736816406, x_2=379.1632080078125, y_2=256.7074279785156), text=None, id=None, type=Text, parent=None, next=None, score=0.9685178399085999), TextBlock(block=Rectangle(x_1=223.3671417236328, y_1=107.71920776367188, x_2=362.5734558105469, y_2=148.32823181152344), text=None, id=None, type=Text, parent=None, next=None, score=0.9653211236000061), TextBlock(block=Rectangle(x_1=51.03438186645508, y_1=728.892822265625, x_2=95.56795501708984, y_2=737.9431762695312), text=None, id=None, type=Title, parent=None, next=None, score=0.9311027526855469), TextBlock(block=Rectangle(x_1=394.1493225097656, y_1=107.9976577758789, x_2=537.9762573242188, y_2=159.13136291503906), text=None, id=None, type=Text, parent=None, next=None, score=0.9112370610237122), TextBlock(block=Rectangle(x_1=50.658870697021484, y_1=735.84423828125, x_2=159.6438751220703, y_2=757.4630737304688), text=None, id=None, type=Text, parent=None, next=None, score=0.8865610361099243), TextBlock(block=Rectangle(x_1=394.27020263671875, y_1=168.5370330810547, x_2=543.0894165039062, y_2=311.5814208984375), text=None, id=None, type=Text, parent=None, next=None, score=0.8194741010665894)], page_data={})"
   ]
  },
  {
   "cell_type": "code",
   "execution_count": 3,
   "id": "6998156b",
   "metadata": {},
   "outputs": [
    {
     "name": "stdout",
     "output_type": "stream",
     "text": [
      "\n",
      "PyMuPDF 1.19.6: Python bindings for the MuPDF 1.19.0 library.\n",
      "Version date: 2022-03-03 00:00:01.\n",
      "Built for Python 3.10 on win32 (64-bit).\n",
      "\n"
     ]
    }
   ],
   "source": [
    "import fitz\n",
    "print(fitz.__doc__)"
   ]
  },
  {
   "cell_type": "code",
   "execution_count": 4,
   "id": "bba1e2dd",
   "metadata": {},
   "outputs": [],
   "source": [
    "import pandas\n",
    "doc = fitz.open('python_data/keppel.pdf')"
   ]
  },
  {
   "cell_type": "code",
   "execution_count": null,
   "id": "16570d49",
   "metadata": {},
   "outputs": [],
   "source": []
  },
  {
   "cell_type": "code",
   "execution_count": 5,
   "id": "dc304050",
   "metadata": {},
   "outputs": [],
   "source": [
    "page = doc[11]  # get first page\n",
    "rect = fitz.Rect(50.33146667480469,  108.61450958251953, 208.6129150390625, 148.47357177734375)  # define your rectangle here\n",
    "text = page.get_textbox(rect)  # get text from rectangle\n",
    "clean_text = ' '.join(text.split())\n"
   ]
  },
  {
   "cell_type": "code",
   "execution_count": 6,
   "id": "1d4985b1",
   "metadata": {},
   "outputs": [
    {
     "data": {
      "text/plain": [
       "'we are growing our stable and recurring income from the quality operations and maintenance services provided by Infrastructure Services.'"
      ]
     },
     "execution_count": 6,
     "metadata": {},
     "output_type": "execute_result"
    }
   ],
   "source": [
    "clean_text"
   ]
  },
  {
   "cell_type": "code",
   "execution_count": 9,
   "id": "4d9ca45e",
   "metadata": {},
   "outputs": [],
   "source": [
    "blocks = [[50.33146667480469,\n",
    "  108.61450958251953,\n",
    "  208.6129150390625,\n",
    "  148.47357177734375],\n",
    " [50.34075164794922, 492.1242370605469, 209.06524658203125, 715.4655151367188],\n",
    " [50.30836486816406, 158.7543487548828, 206.26492309570312, 287.7823791503906],\n",
    " [51.053466796875, 298.5046081542969, 206.35369873046875, 378.11859130859375],\n",
    " [223.02687072753906, 268.9040832519531, 375.472412109375, 378.18963623046875],\n",
    " [49.624568939208984,\n",
    "  390.32415771484375,\n",
    "  208.18748474121094,\n",
    "  479.3470764160156],\n",
    " [221.10194396972656,\n",
    "  160.15992736816406,\n",
    "  379.1632080078125,\n",
    "  256.7074279785156],\n",
    " [223.3671417236328,\n",
    "  107.71920776367188,\n",
    "  362.5734558105469,\n",
    "  148.32823181152344],\n",
    " [394.1493225097656, 107.9976577758789, 537.9762573242188, 159.13136291503906],\n",
    " [50.658870697021484, 735.84423828125, 159.6438751220703, 757.4630737304688],\n",
    " [394.27020263671875, 168.5370330810547, 543.0894165039062, 311.5814208984375]]\n",
    "\n",
    "## write logic to sort these blocks in order"
   ]
  },
  {
   "cell_type": "code",
   "execution_count": 10,
   "id": "dab9792b",
   "metadata": {},
   "outputs": [],
   "source": [
    "total_width = 0\n",
    "for i in range(len(blocks)):\n",
    "    total_width = total_width + blocks[i][2] -  blocks[i][0]"
   ]
  },
  {
   "cell_type": "code",
   "execution_count": 14,
   "id": "3d08c83c",
   "metadata": {},
   "outputs": [
    {
     "data": {
      "text/plain": [
       "148.92453835227272"
      ]
     },
     "execution_count": 14,
     "metadata": {},
     "output_type": "execute_result"
    }
   ],
   "source": [
    "avg_width = total_width / len(blocks)\n",
    "avg_width"
   ]
  },
  {
   "cell_type": "code",
   "execution_count": 17,
   "id": "8f70e2ad",
   "metadata": {},
   "outputs": [
    {
     "data": {
      "text/plain": [
       "[[49.624568939208984,\n",
       "  390.32415771484375,\n",
       "  208.18748474121094,\n",
       "  479.3470764160156],\n",
       " [50.30836486816406, 158.7543487548828, 206.26492309570312, 287.7823791503906],\n",
       " [50.33146667480469,\n",
       "  108.61450958251953,\n",
       "  208.6129150390625,\n",
       "  148.47357177734375],\n",
       " [50.34075164794922, 492.1242370605469, 209.06524658203125, 715.4655151367188],\n",
       " [50.658870697021484, 735.84423828125, 159.6438751220703, 757.4630737304688],\n",
       " [51.053466796875, 298.5046081542969, 206.35369873046875, 378.11859130859375],\n",
       " [221.10194396972656,\n",
       "  160.15992736816406,\n",
       "  379.1632080078125,\n",
       "  256.7074279785156],\n",
       " [223.02687072753906, 268.9040832519531, 375.472412109375, 378.18963623046875],\n",
       " [223.3671417236328,\n",
       "  107.71920776367188,\n",
       "  362.5734558105469,\n",
       "  148.32823181152344],\n",
       " [394.1493225097656, 107.9976577758789, 537.9762573242188, 159.13136291503906],\n",
       " [394.27020263671875, 168.5370330810547, 543.0894165039062, 311.5814208984375]]"
      ]
     },
     "execution_count": 17,
     "metadata": {},
     "output_type": "execute_result"
    }
   ],
   "source": [
    "from operator import itemgetter\n",
    "sorted_blocks = sorted(blocks, key=itemgetter(0))\n",
    "sorted_blocks"
   ]
  },
  {
   "cell_type": "markdown",
   "id": "1c495573",
   "metadata": {},
   "source": [
    "## Identify points of column change."
   ]
  },
  {
   "cell_type": "code",
   "execution_count": 25,
   "id": "d354f98b",
   "metadata": {},
   "outputs": [],
   "source": [
    "dict_cols = {}\n",
    "first_column_start = sorted_blocks[0][0]\n",
    "column_number = 1\n",
    "dict_cols[column_number] = []\n",
    "for i in range(len(sorted_blocks)):\n",
    "    if (sorted_blocks[i][2] - sorted_blocks[i][0]) / 2 + sorted_blocks[i][0] - first_column_start > avg_width:\n",
    "        first_column_start = sorted_blocks[i][0]\n",
    "        column_number += 1\n",
    "        dict_cols[column_number] = []\n",
    "\n",
    "    dict_cols[column_number].append(sorted_blocks[i])\n",
    "    "
   ]
  },
  {
   "cell_type": "code",
   "execution_count": 28,
   "id": "988d940f",
   "metadata": {
    "scrolled": true
   },
   "outputs": [
    {
     "data": {
      "text/plain": [
       "{1: [[50.33146667480469,\n",
       "   108.61450958251953,\n",
       "   208.6129150390625,\n",
       "   148.47357177734375],\n",
       "  [50.30836486816406,\n",
       "   158.7543487548828,\n",
       "   206.26492309570312,\n",
       "   287.7823791503906],\n",
       "  [51.053466796875, 298.5046081542969, 206.35369873046875, 378.11859130859375],\n",
       "  [49.624568939208984,\n",
       "   390.32415771484375,\n",
       "   208.18748474121094,\n",
       "   479.3470764160156],\n",
       "  [50.34075164794922,\n",
       "   492.1242370605469,\n",
       "   209.06524658203125,\n",
       "   715.4655151367188],\n",
       "  [50.658870697021484, 735.84423828125, 159.6438751220703, 757.4630737304688]],\n",
       " 2: [[223.3671417236328,\n",
       "   107.71920776367188,\n",
       "   362.5734558105469,\n",
       "   148.32823181152344],\n",
       "  [221.10194396972656,\n",
       "   160.15992736816406,\n",
       "   379.1632080078125,\n",
       "   256.7074279785156],\n",
       "  [223.02687072753906,\n",
       "   268.9040832519531,\n",
       "   375.472412109375,\n",
       "   378.18963623046875]],\n",
       " 3: [[394.1493225097656,\n",
       "   107.9976577758789,\n",
       "   537.9762573242188,\n",
       "   159.13136291503906],\n",
       "  [394.27020263671875,\n",
       "   168.5370330810547,\n",
       "   543.0894165039062,\n",
       "   311.5814208984375]]}"
      ]
     },
     "execution_count": 28,
     "metadata": {},
     "output_type": "execute_result"
    }
   ],
   "source": [
    "dict_cols"
   ]
  },
  {
   "cell_type": "code",
   "execution_count": 27,
   "id": "9c63cd8a",
   "metadata": {},
   "outputs": [],
   "source": [
    "for key, value in dict_cols.items():\n",
    "    dict_cols[key] = sorted(value, key=itemgetter(1))\n"
   ]
  },
  {
   "cell_type": "markdown",
   "id": "c6bc6919",
   "metadata": {},
   "source": [
    "## Adding padding and reading text of the pdf by Coordinates."
   ]
  },
  {
   "cell_type": "code",
   "execution_count": 41,
   "id": "843e78c9",
   "metadata": {
    "scrolled": true
   },
   "outputs": [
    {
     "name": "stdout",
     "output_type": "stream",
     "text": [
      "1 While pursuing new markets and opportunities, we are growing our stable and recurring income from the quality operations and maintenance services provided by Infrastructure Services.\n",
      "1 Keppel Electric has been the largest electricity retailer in Singapore in terms of market share in the commercial and industrial sector. Following the launch of the Open Electricity Market (OEM) in Singapore, Keppel Electric is also making headway into the housing electricity market. Starting from 1 November 2018, the OEM is being progressively extended to all consumers across Singapore by zones. The response to Keppel Electric’s retail offerings for households has been encouraging, with preliminary results showing that it is among the retailers with the largest market shares in the OEM.\n",
      "1 Keppel T&T is scaling up its logistics and data centre solutions to tap opportunities created by the fast-growing digital economy. With the burgeoning growth of cloud service providers as well as increasing storage and processing requirements, our data centre business is well positioned to tap growth opportunities.\n",
      "1 In 2018, we added four new data centre projects across Asia and Europe to our portfolio. This expands our portfolio to 22 data centres with a total value of about $2.7 billion. To further grow its capabilities, Keppel T&T is also exploring innovative solutions such as high-rise green data centres and floating water-cooled data centre parks, which tap Keppel O&M’s expertise in floating infrastructure.\n",
      "1 Expanding into new markets, we have, through the Alpha Data Centre Fund (Alpha DC Fund) and Keppel Data Centres Holding (KDCH), signed conditional agreements with the Salim Group to jointly develop and operate a high-availability data centre in Bogor, about 35 kilometres from Jakarta. Alpha DC Fund and KDCH have also inked agreements with a leading technology company to develop and operate their first greenfield data centre in Johor, Malaysia. Meanwhile, Keppel Logistics focused on streamlining processes and resources for better cost management while seeking new opportunities in urban logistics. We continued to drive the growth of UrbanFox, our omnichannel logistics and channel management solutions brand. UrbanFox’s customer base has grown significantly, with deliveries doubling over the course of 2018. UrbanFox also plans to launch its integrated channel management in other countries in Southeast Asia, leveraging Keppel’s presence in those markets.\n",
      "1 2018 was an active year for our Investments Division.\n",
      "2 for long-term growth, including expandin into new markets and asset classes, focusing on areas which harness the capabilities of the Keppel Group.\n",
      "2 With a view to tapping opportunities in the fast-growing senior living market, Keppel Capital entered into a conditional equity purchase agreement to acquire a 50% stake in leading US senior living operator, Watermark Retirement Communities. It has also signed Memoranda of Understanding (MOUs) to establish new private funds to invest in education real estate, and retail properties in Australia.\n",
      "2 Our listed REITs and Trust have also been expanding their portfolios. In Australia, Keppel DC REIT is enlarging its data centre footprint with a new shell and core data centre, to be built in the Macquarie Business Park precinct in Sydney. In the US, Keppel- KBS US REIT continued to capture strong leasing demand from the technology and professional services sectors in Seattle. Keppel Infrastructure Trust has completed its acquisition of a 100% interest in Ixom,\n",
      "3 which is among the leading industrial infrastructure businesses in Australia and New Zealand, supplying and distributing water treatment chemicals, as well as industrial and specialty chemicals.\n",
      "3 2018 also marked the 10th anniversary of the Sino-Singapore Tianjin Eco-City, a flagship government-to-government project between China and Singapore. With the Eco-City’s growing maturity, we are seeing increasing demand for homes and land in the city. Our joint venture, the Sino-Singapore Tianjin Eco-City Investment and Development Co., Ltd., sold three residential land plots for RMB 3.4 billion in 2018, one of which was acquired by Keppel Land to tap the healthy demand for its green homes in the Eco-City.\n"
     ]
    }
   ],
   "source": [
    "import csv\n",
    "with open('assgnment_1.csv', 'w') as csv_file:  \n",
    "    writer = csv.writer(csv_file)\n",
    "    for key, value in dict_cols.items():\n",
    "        for i in range(len(value)):\n",
    "            rect = fitz.Rect([value[i][0]-5,value[i][1]-5,value[i][2]+5,value[i][3]+5])  # define your rectangle here\n",
    "            text = page.get_textbox(rect)  # get text from rectangle\n",
    "            clean_text = ' '.join(text.split())\n",
    "            print(key, clean_text)\n",
    "            writer.writerow([key, clean_text])"
   ]
  },
  {
   "cell_type": "code",
   "execution_count": null,
   "id": "84a7c727",
   "metadata": {},
   "outputs": [],
   "source": []
  },
  {
   "cell_type": "code",
   "execution_count": null,
   "id": "50e5725c",
   "metadata": {},
   "outputs": [],
   "source": []
  },
  {
   "cell_type": "code",
   "execution_count": null,
   "id": "8a9e9593",
   "metadata": {},
   "outputs": [],
   "source": []
  },
  {
   "cell_type": "code",
   "execution_count": null,
   "id": "a6f2bd7a",
   "metadata": {},
   "outputs": [],
   "source": []
  },
  {
   "cell_type": "code",
   "execution_count": null,
   "id": "4c022e0a",
   "metadata": {},
   "outputs": [],
   "source": []
  },
  {
   "cell_type": "code",
   "execution_count": null,
   "id": "fcba76a6",
   "metadata": {},
   "outputs": [],
   "source": []
  },
  {
   "cell_type": "code",
   "execution_count": null,
   "id": "7fd622ed",
   "metadata": {},
   "outputs": [],
   "source": []
  },
  {
   "cell_type": "code",
   "execution_count": null,
   "id": "4a74ad27",
   "metadata": {},
   "outputs": [],
   "source": []
  },
  {
   "cell_type": "code",
   "execution_count": null,
   "id": "3a683268",
   "metadata": {},
   "outputs": [],
   "source": []
  },
  {
   "cell_type": "code",
   "execution_count": null,
   "id": "d7115bba",
   "metadata": {},
   "outputs": [],
   "source": []
  },
  {
   "cell_type": "code",
   "execution_count": null,
   "id": "14c1976a",
   "metadata": {},
   "outputs": [],
   "source": []
  },
  {
   "cell_type": "code",
   "execution_count": null,
   "id": "7dbfee07",
   "metadata": {},
   "outputs": [],
   "source": []
  },
  {
   "cell_type": "code",
   "execution_count": null,
   "id": "eb527c7c",
   "metadata": {},
   "outputs": [],
   "source": []
  },
  {
   "cell_type": "code",
   "execution_count": null,
   "id": "a6494bdf",
   "metadata": {},
   "outputs": [],
   "source": []
  }
 ],
 "metadata": {
  "kernelspec": {
   "display_name": "Python 3 (ipykernel)",
   "language": "python",
   "name": "python3"
  },
  "language_info": {
   "codemirror_mode": {
    "name": "ipython",
    "version": 3
   },
   "file_extension": ".py",
   "mimetype": "text/x-python",
   "name": "python",
   "nbconvert_exporter": "python",
   "pygments_lexer": "ipython3",
   "version": "3.10.4"
  }
 },
 "nbformat": 4,
 "nbformat_minor": 5
}
