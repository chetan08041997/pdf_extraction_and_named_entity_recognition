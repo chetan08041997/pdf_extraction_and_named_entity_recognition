{
 "cells": [
  {
   "cell_type": "code",
   "execution_count": 29,
   "id": "ff97c4a9",
   "metadata": {},
   "outputs": [],
   "source": [
    "# req: pymupdf, gostscript (downloaded by installer file),camelot,pandas"
   ]
  },
  {
   "cell_type": "code",
   "execution_count": 9,
   "id": "0855300d",
   "metadata": {},
   "outputs": [
    {
     "name": "stdout",
     "output_type": "stream",
     "text": [
      "\n",
      "PyMuPDF 1.19.6: Python bindings for the MuPDF 1.19.0 library.\n",
      "Version date: 2022-03-03 00:00:01.\n",
      "Built for Python 3.10 on win32 (64-bit).\n",
      "\n"
     ]
    }
   ],
   "source": [
    "import fitz\n",
    "print(fitz.__doc__)\n",
    "import pandas\n",
    "doc = fitz.open('python_data/keppel.pdf')\n",
    "page = doc[68]\n",
    "pix = page.get_pixmap()\n",
    "pix.save(\"page-%i.png\" % page.number)\n",
    "\n"
   ]
  },
  {
   "cell_type": "code",
   "execution_count": 10,
   "id": "9e905ea7",
   "metadata": {},
   "outputs": [
    {
     "name": "stdout",
     "output_type": "stream",
     "text": [
      "\n",
      "PyMuPDF 1.19.6: Python bindings for the MuPDF 1.19.0 library.\n",
      "Version date: 2022-03-03 00:00:01.\n",
      "Built for Python 3.10 on win32 (64-bit).\n",
      "\n"
     ]
    }
   ],
   "source": [
    "import fitz\n",
    "print(fitz.__doc__)\n",
    "import pandas\n",
    "doc = fitz.open('python_data/keppel.pdf')\n",
    "\n",
    "\n",
    "doc2 = fitz.open()                 # new empty PDF\n",
    "doc2.insert_pdf(doc, from_page = 68,to_page = 68 ) # last 10 pages\n",
    "doc2.save(\"page68.pdf\")"
   ]
  },
  {
   "cell_type": "code",
   "execution_count": 4,
   "id": "1f14e9d0",
   "metadata": {},
   "outputs": [
    {
     "name": "stdout",
     "output_type": "stream",
     "text": [
      "\n",
      "PyMuPDF 1.19.6: Python bindings for the MuPDF 1.19.0 library.\n",
      "Version date: 2022-03-03 00:00:01.\n",
      "Built for Python 3.10 on win32 (64-bit).\n",
      "\n"
     ]
    }
   ],
   "source": []
  },
  {
   "cell_type": "code",
   "execution_count": 6,
   "id": "45f6cbe1",
   "metadata": {},
   "outputs": [
    {
     "data": {
      "text/plain": [
       "(fitz.fitz.Document, fitz.fitz.Page)"
      ]
     },
     "execution_count": 6,
     "metadata": {},
     "output_type": "execute_result"
    }
   ],
   "source": [
    "type(doc),type(page)"
   ]
  },
  {
   "cell_type": "code",
   "execution_count": 1,
   "id": "98e00b1e",
   "metadata": {},
   "outputs": [],
   "source": [
    "import camelot"
   ]
  },
  {
   "cell_type": "code",
   "execution_count": 8,
   "id": "8148145e",
   "metadata": {
    "scrolled": true
   },
   "outputs": [],
   "source": [
    "tables = camelot.read_pdf('page68.pdf', flavor='stream', edge_tol=500)"
   ]
  },
  {
   "cell_type": "code",
   "execution_count": 9,
   "id": "95592914",
   "metadata": {},
   "outputs": [],
   "source": [
    "tables.export('page68.csv', f='csv', compress=True) # json, excel, html, markdown, sqlite"
   ]
  },
  {
   "cell_type": "code",
   "execution_count": 10,
   "id": "9f895401",
   "metadata": {},
   "outputs": [
    {
     "data": {
      "text/plain": [
       "<Table shape=(14, 7)>"
      ]
     },
     "execution_count": 10,
     "metadata": {},
     "output_type": "execute_result"
    }
   ],
   "source": [
    "tables[0]"
   ]
  },
  {
   "cell_type": "code",
   "execution_count": 11,
   "id": "48f1fb45",
   "metadata": {},
   "outputs": [
    {
     "data": {
      "text/plain": [
       "{'accuracy': 98.97, 'whitespace': 13.27, 'order': 1, 'page': 1}"
      ]
     },
     "execution_count": 11,
     "metadata": {},
     "output_type": "execute_result"
    }
   ],
   "source": [
    "tables[0].parsing_report"
   ]
  },
  {
   "cell_type": "code",
   "execution_count": 12,
   "id": "7c1a49b9",
   "metadata": {},
   "outputs": [
    {
     "data": {
      "text/plain": [
       "<TableList n=2>"
      ]
     },
     "execution_count": 12,
     "metadata": {},
     "output_type": "execute_result"
    }
   ],
   "source": [
    "tables"
   ]
  },
  {
   "cell_type": "code",
   "execution_count": 18,
   "id": "0730e04b",
   "metadata": {},
   "outputs": [
    {
     "data": {
      "text/html": [
       "<div>\n",
       "<style scoped>\n",
       "    .dataframe tbody tr th:only-of-type {\n",
       "        vertical-align: middle;\n",
       "    }\n",
       "\n",
       "    .dataframe tbody tr th {\n",
       "        vertical-align: top;\n",
       "    }\n",
       "\n",
       "    .dataframe thead th {\n",
       "        text-align: right;\n",
       "    }\n",
       "</style>\n",
       "<table border=\"1\" class=\"dataframe\">\n",
       "  <thead>\n",
       "    <tr style=\"text-align: right;\">\n",
       "      <th></th>\n",
       "      <th>0</th>\n",
       "      <th>1</th>\n",
       "      <th>2</th>\n",
       "      <th>3</th>\n",
       "      <th>4</th>\n",
       "      <th>5</th>\n",
       "      <th>6</th>\n",
       "    </tr>\n",
       "  </thead>\n",
       "  <tbody>\n",
       "    <tr>\n",
       "      <th>0</th>\n",
       "      <td>Board and Committee Meetings and Attendance</td>\n",
       "      <td></td>\n",
       "      <td></td>\n",
       "      <td></td>\n",
       "      <td></td>\n",
       "      <td></td>\n",
       "      <td></td>\n",
       "    </tr>\n",
       "    <tr>\n",
       "      <th>1</th>\n",
       "      <td></td>\n",
       "      <td></td>\n",
       "      <td></td>\n",
       "      <td></td>\n",
       "      <td>Board Committee Meetings</td>\n",
       "      <td></td>\n",
       "      <td></td>\n",
       "    </tr>\n",
       "    <tr>\n",
       "      <th>2</th>\n",
       "      <td></td>\n",
       "      <td>Board Meetings</td>\n",
       "      <td>Audit</td>\n",
       "      <td>Nomination</td>\n",
       "      <td>Remuneration</td>\n",
       "      <td>Safety</td>\n",
       "      <td>Risk</td>\n",
       "    </tr>\n",
       "    <tr>\n",
       "      <th>3</th>\n",
       "      <td>Lee Boon Yang</td>\n",
       "      <td>11</td>\n",
       "      <td>–</td>\n",
       "      <td>3</td>\n",
       "      <td>4</td>\n",
       "      <td>4</td>\n",
       "      <td>–</td>\n",
       "    </tr>\n",
       "    <tr>\n",
       "      <th>4</th>\n",
       "      <td>Loh Chin Hua</td>\n",
       "      <td>11</td>\n",
       "      <td>–</td>\n",
       "      <td>–</td>\n",
       "      <td>–</td>\n",
       "      <td>4</td>\n",
       "      <td>–</td>\n",
       "    </tr>\n",
       "    <tr>\n",
       "      <th>5</th>\n",
       "      <td>Tow Heng Tan</td>\n",
       "      <td>8</td>\n",
       "      <td>–</td>\n",
       "      <td>3</td>\n",
       "      <td>2</td>\n",
       "      <td>–</td>\n",
       "      <td>4</td>\n",
       "    </tr>\n",
       "    <tr>\n",
       "      <th>6</th>\n",
       "      <td>Alvin Yeo Khirn Hai</td>\n",
       "      <td>9</td>\n",
       "      <td>5</td>\n",
       "      <td>1</td>\n",
       "      <td>–</td>\n",
       "      <td>–</td>\n",
       "      <td>–</td>\n",
       "    </tr>\n",
       "    <tr>\n",
       "      <th>7</th>\n",
       "      <td>Tan Ek Kia</td>\n",
       "      <td>9</td>\n",
       "      <td>5</td>\n",
       "      <td>–</td>\n",
       "      <td>–</td>\n",
       "      <td>4</td>\n",
       "      <td>4</td>\n",
       "    </tr>\n",
       "    <tr>\n",
       "      <th>8</th>\n",
       "      <td>Danny Teoh</td>\n",
       "      <td>10</td>\n",
       "      <td>5</td>\n",
       "      <td>–</td>\n",
       "      <td>4</td>\n",
       "      <td>–</td>\n",
       "      <td>4</td>\n",
       "    </tr>\n",
       "    <tr>\n",
       "      <th>9</th>\n",
       "      <td>Tan Puay Chiang1</td>\n",
       "      <td>10</td>\n",
       "      <td>–</td>\n",
       "      <td>3</td>\n",
       "      <td>–</td>\n",
       "      <td>4</td>\n",
       "      <td>4</td>\n",
       "    </tr>\n",
       "    <tr>\n",
       "      <th>10</th>\n",
       "      <td>Till Vestring</td>\n",
       "      <td>11</td>\n",
       "      <td>–</td>\n",
       "      <td>3</td>\n",
       "      <td>4</td>\n",
       "      <td>–</td>\n",
       "      <td>–</td>\n",
       "    </tr>\n",
       "    <tr>\n",
       "      <th>11</th>\n",
       "      <td>Veronica Eng</td>\n",
       "      <td>11</td>\n",
       "      <td>5</td>\n",
       "      <td>–</td>\n",
       "      <td>–</td>\n",
       "      <td>–</td>\n",
       "      <td>4</td>\n",
       "    </tr>\n",
       "    <tr>\n",
       "      <th>12</th>\n",
       "      <td>Jean-François Manzoni2</td>\n",
       "      <td>3 out of 3</td>\n",
       "      <td>–</td>\n",
       "      <td>–</td>\n",
       "      <td>–</td>\n",
       "      <td>–</td>\n",
       "      <td>–</td>\n",
       "    </tr>\n",
       "    <tr>\n",
       "      <th>13</th>\n",
       "      <td>No. of Meetings Held</td>\n",
       "      <td>11</td>\n",
       "      <td>5</td>\n",
       "      <td>3</td>\n",
       "      <td>4</td>\n",
       "      <td>4</td>\n",
       "      <td>4</td>\n",
       "    </tr>\n",
       "  </tbody>\n",
       "</table>\n",
       "</div>"
      ],
      "text/plain": [
       "                                              0               1      2  \\\n",
       "0   Board and Committee Meetings and Attendance                          \n",
       "1                                                                        \n",
       "2                                                Board Meetings  Audit   \n",
       "3                                 Lee Boon Yang              11      –   \n",
       "4                                  Loh Chin Hua              11      –   \n",
       "5                                  Tow Heng Tan               8      –   \n",
       "6                           Alvin Yeo Khirn Hai               9      5   \n",
       "7                                    Tan Ek Kia               9      5   \n",
       "8                                    Danny Teoh              10      5   \n",
       "9                              Tan Puay Chiang1              10      –   \n",
       "10                                Till Vestring              11      –   \n",
       "11                                 Veronica Eng              11      5   \n",
       "12                       Jean-François Manzoni2      3 out of 3      –   \n",
       "13                         No. of Meetings Held              11      5   \n",
       "\n",
       "             3                         4       5     6  \n",
       "0                                                       \n",
       "1               Board Committee Meetings                \n",
       "2   Nomination              Remuneration  Safety  Risk  \n",
       "3            3                         4       4     –  \n",
       "4            –                         –       4     –  \n",
       "5            3                         2       –     4  \n",
       "6            1                         –       –     –  \n",
       "7            –                         –       4     4  \n",
       "8            –                         4       –     4  \n",
       "9            3                         –       4     4  \n",
       "10           3                         4       –     –  \n",
       "11           –                         –       –     4  \n",
       "12           –                         –       –     –  \n",
       "13           3                         4       4     4  "
      ]
     },
     "execution_count": 18,
     "metadata": {},
     "output_type": "execute_result"
    }
   ],
   "source": [
    "tables[0].df"
   ]
  },
  {
   "cell_type": "code",
   "execution_count": 28,
   "id": "1b314ed8",
   "metadata": {},
   "outputs": [],
   "source": [
    "tables[0].df.replace(\"–\",\"-\").to_csv(\"assignment_2.csv\", index = None, encoding='utf-8')"
   ]
  },
  {
   "cell_type": "code",
   "execution_count": 27,
   "id": "0a653ff7",
   "metadata": {},
   "outputs": [
    {
     "data": {
      "text/html": [
       "<div>\n",
       "<style scoped>\n",
       "    .dataframe tbody tr th:only-of-type {\n",
       "        vertical-align: middle;\n",
       "    }\n",
       "\n",
       "    .dataframe tbody tr th {\n",
       "        vertical-align: top;\n",
       "    }\n",
       "\n",
       "    .dataframe thead th {\n",
       "        text-align: right;\n",
       "    }\n",
       "</style>\n",
       "<table border=\"1\" class=\"dataframe\">\n",
       "  <thead>\n",
       "    <tr style=\"text-align: right;\">\n",
       "      <th></th>\n",
       "      <th>0</th>\n",
       "      <th>1</th>\n",
       "      <th>2</th>\n",
       "      <th>3</th>\n",
       "      <th>4</th>\n",
       "      <th>5</th>\n",
       "      <th>6</th>\n",
       "    </tr>\n",
       "  </thead>\n",
       "  <tbody>\n",
       "    <tr>\n",
       "      <th>0</th>\n",
       "      <td>Board and Committee Meetings and Attendance</td>\n",
       "      <td></td>\n",
       "      <td></td>\n",
       "      <td></td>\n",
       "      <td></td>\n",
       "      <td></td>\n",
       "      <td></td>\n",
       "    </tr>\n",
       "    <tr>\n",
       "      <th>1</th>\n",
       "      <td></td>\n",
       "      <td></td>\n",
       "      <td></td>\n",
       "      <td></td>\n",
       "      <td>Board Committee Meetings</td>\n",
       "      <td></td>\n",
       "      <td></td>\n",
       "    </tr>\n",
       "    <tr>\n",
       "      <th>2</th>\n",
       "      <td></td>\n",
       "      <td>Board Meetings</td>\n",
       "      <td>Audit</td>\n",
       "      <td>Nomination</td>\n",
       "      <td>Remuneration</td>\n",
       "      <td>Safety</td>\n",
       "      <td>Risk</td>\n",
       "    </tr>\n",
       "    <tr>\n",
       "      <th>3</th>\n",
       "      <td>Lee Boon Yang</td>\n",
       "      <td>11</td>\n",
       "      <td>0</td>\n",
       "      <td>3</td>\n",
       "      <td>4</td>\n",
       "      <td>4</td>\n",
       "      <td>0</td>\n",
       "    </tr>\n",
       "    <tr>\n",
       "      <th>4</th>\n",
       "      <td>Loh Chin Hua</td>\n",
       "      <td>11</td>\n",
       "      <td>0</td>\n",
       "      <td>0</td>\n",
       "      <td>0</td>\n",
       "      <td>4</td>\n",
       "      <td>0</td>\n",
       "    </tr>\n",
       "    <tr>\n",
       "      <th>5</th>\n",
       "      <td>Tow Heng Tan</td>\n",
       "      <td>8</td>\n",
       "      <td>0</td>\n",
       "      <td>3</td>\n",
       "      <td>2</td>\n",
       "      <td>0</td>\n",
       "      <td>4</td>\n",
       "    </tr>\n",
       "    <tr>\n",
       "      <th>6</th>\n",
       "      <td>Alvin Yeo Khirn Hai</td>\n",
       "      <td>9</td>\n",
       "      <td>5</td>\n",
       "      <td>1</td>\n",
       "      <td>0</td>\n",
       "      <td>0</td>\n",
       "      <td>0</td>\n",
       "    </tr>\n",
       "    <tr>\n",
       "      <th>7</th>\n",
       "      <td>Tan Ek Kia</td>\n",
       "      <td>9</td>\n",
       "      <td>5</td>\n",
       "      <td>0</td>\n",
       "      <td>0</td>\n",
       "      <td>4</td>\n",
       "      <td>4</td>\n",
       "    </tr>\n",
       "    <tr>\n",
       "      <th>8</th>\n",
       "      <td>Danny Teoh</td>\n",
       "      <td>10</td>\n",
       "      <td>5</td>\n",
       "      <td>0</td>\n",
       "      <td>4</td>\n",
       "      <td>0</td>\n",
       "      <td>4</td>\n",
       "    </tr>\n",
       "    <tr>\n",
       "      <th>9</th>\n",
       "      <td>Tan Puay Chiang1</td>\n",
       "      <td>10</td>\n",
       "      <td>0</td>\n",
       "      <td>3</td>\n",
       "      <td>0</td>\n",
       "      <td>4</td>\n",
       "      <td>4</td>\n",
       "    </tr>\n",
       "    <tr>\n",
       "      <th>10</th>\n",
       "      <td>Till Vestring</td>\n",
       "      <td>11</td>\n",
       "      <td>0</td>\n",
       "      <td>3</td>\n",
       "      <td>4</td>\n",
       "      <td>0</td>\n",
       "      <td>0</td>\n",
       "    </tr>\n",
       "    <tr>\n",
       "      <th>11</th>\n",
       "      <td>Veronica Eng</td>\n",
       "      <td>11</td>\n",
       "      <td>5</td>\n",
       "      <td>0</td>\n",
       "      <td>0</td>\n",
       "      <td>0</td>\n",
       "      <td>4</td>\n",
       "    </tr>\n",
       "    <tr>\n",
       "      <th>12</th>\n",
       "      <td>Jean-François Manzoni2</td>\n",
       "      <td>3 out of 3</td>\n",
       "      <td>0</td>\n",
       "      <td>0</td>\n",
       "      <td>0</td>\n",
       "      <td>0</td>\n",
       "      <td>0</td>\n",
       "    </tr>\n",
       "    <tr>\n",
       "      <th>13</th>\n",
       "      <td>No. of Meetings Held</td>\n",
       "      <td>11</td>\n",
       "      <td>5</td>\n",
       "      <td>3</td>\n",
       "      <td>4</td>\n",
       "      <td>4</td>\n",
       "      <td>4</td>\n",
       "    </tr>\n",
       "  </tbody>\n",
       "</table>\n",
       "</div>"
      ],
      "text/plain": [
       "                                              0               1      2  \\\n",
       "0   Board and Committee Meetings and Attendance                          \n",
       "1                                                                        \n",
       "2                                                Board Meetings  Audit   \n",
       "3                                 Lee Boon Yang              11      0   \n",
       "4                                  Loh Chin Hua              11      0   \n",
       "5                                  Tow Heng Tan               8      0   \n",
       "6                           Alvin Yeo Khirn Hai               9      5   \n",
       "7                                    Tan Ek Kia               9      5   \n",
       "8                                    Danny Teoh              10      5   \n",
       "9                              Tan Puay Chiang1              10      0   \n",
       "10                                Till Vestring              11      0   \n",
       "11                                 Veronica Eng              11      5   \n",
       "12                       Jean-François Manzoni2      3 out of 3      0   \n",
       "13                         No. of Meetings Held              11      5   \n",
       "\n",
       "             3                         4       5     6  \n",
       "0                                                       \n",
       "1               Board Committee Meetings                \n",
       "2   Nomination              Remuneration  Safety  Risk  \n",
       "3            3                         4       4     0  \n",
       "4            0                         0       4     0  \n",
       "5            3                         2       0     4  \n",
       "6            1                         0       0     0  \n",
       "7            0                         0       4     4  \n",
       "8            0                         4       0     4  \n",
       "9            3                         0       4     4  \n",
       "10           3                         4       0     0  \n",
       "11           0                         0       0     4  \n",
       "12           0                         0       0     0  \n",
       "13           3                         4       4     4  "
      ]
     },
     "execution_count": 27,
     "metadata": {},
     "output_type": "execute_result"
    }
   ],
   "source": [
    "tables[0].df.replace(\"\",0)"
   ]
  },
  {
   "cell_type": "code",
   "execution_count": null,
   "id": "827c18a7",
   "metadata": {},
   "outputs": [],
   "source": []
  }
 ],
 "metadata": {
  "kernelspec": {
   "display_name": "Python 3 (ipykernel)",
   "language": "python",
   "name": "python3"
  },
  "language_info": {
   "codemirror_mode": {
    "name": "ipython",
    "version": 3
   },
   "file_extension": ".py",
   "mimetype": "text/x-python",
   "name": "python",
   "nbconvert_exporter": "python",
   "pygments_lexer": "ipython3",
   "version": "3.10.4"
  }
 },
 "nbformat": 4,
 "nbformat_minor": 5
}
