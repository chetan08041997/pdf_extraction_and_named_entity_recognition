{
 "cells": [
  {
   "cell_type": "code",
   "execution_count": 1,
   "id": "9490ca83",
   "metadata": {},
   "outputs": [],
   "source": [
    "#Layout(_blocks=[TextBlock(block=Rectangle(x_1=223.3406219482422, y_1=110.3541488647461, x_2=377.42022705078125, y_2=366.0013427734375), text=None, id=None, type=Text, parent=None, next=None, score=0.9962062835693359), TextBlock(block=Rectangle(x_1=50.477176666259766, y_1=252.1576690673828, x_2=207.22520446777344, y_2=407.8665466308594), text=None, id=None, type=Text, parent=None, next=None, score=0.9951382279396057), TextBlock(block=Rectangle(x_1=49.283206939697266, y_1=419.4883117675781, x_2=202.1212615966797, y_2=518.9354248046875), text=None, id=None, type=Text, parent=None, next=None, score=0.9874454736709595), TextBlock(block=Rectangle(x_1=50.957740783691406, y_1=149.1844024658203, x_2=202.50144958496094, y_2=238.82345581054688), text=None, id=None, type=Text, parent=None, next=None, score=0.980323076248169), TextBlock(block=Rectangle(x_1=395.3326721191406, y_1=160.19287109375, x_2=544.989013671875, y_2=307.9935607910156), text=None, id=None, type=Text, parent=None, next=None, score=0.9801218509674072), TextBlock(block=Rectangle(x_1=50.02735900878906, y_1=590.7916870117188, x_2=549.476806640625, y_2=742.76318359375), text=None, id=None, type=Table, parent=None, next=None, score=0.9792578816413879), TextBlock(block=Rectangle(x_1=393.79766845703125, y_1=108.27118682861328, x_2=551.2618408203125, y_2=149.16249084472656), text=None, id=None, type=Text, parent=None, next=None, score=0.9787470698356628), TextBlock(block=Rectangle(x_1=396.4090881347656, y_1=314.5382995605469, x_2=550.5869750976562, y_2=517.8187255859375), text=None, id=None, type=Text, parent=None, next=None, score=0.9663529992103577), TextBlock(block=Rectangle(x_1=223.84347534179688, y_1=447.2646484375, x_2=377.3460693359375, y_2=518.6571655273438), text=None, id=None, type=Text, parent=None, next=None, score=0.9593528509140015), TextBlock(block=Rectangle(x_1=50.91189193725586, y_1=107.04387664794922, x_2=189.37782287597656, y_2=138.5205078125), text=None, id=None, type=Text, parent=None, next=None, score=0.9334547519683838), TextBlock(block=Rectangle(x_1=223.4647674560547, y_1=414.0899658203125, x_2=379.8531494140625, y_2=424.0594787597656), text=None, id=None, type=Text, parent=None, next=None, score=0.9278600215911865), TextBlock(block=Rectangle(x_1=50.015560150146484, y_1=744.19873046875, x_2=551.648193359375, y_2=780.8385620117188), text=None, id=None, type=Text, parent=None, next=None, score=0.9149539470672607), TextBlock(block=Rectangle(x_1=49.510990142822266, y_1=568.2240600585938, x_2=212.67788696289062, y_2=577.5741577148438), text=None, id=None, type=Text, parent=None, next=None, score=0.8464305996894836), TextBlock(block=Rectangle(x_1=223.2026824951172, y_1=378.1024475097656, x_2=313.296630859375, y_2=401.1082763671875), text=None, id=None, type=Title, parent=None, next=None, score=0.8161895871162415)], page_data={})\n"
   ]
  },
  {
   "cell_type": "code",
   "execution_count": 30,
   "id": "5e641fa7",
   "metadata": {},
   "outputs": [
    {
     "data": {
      "text/plain": [
       "[[50.02735900878906, 251.20831298828125, 549.476806640625, 99.23681640625]]"
      ]
     },
     "execution_count": 30,
     "metadata": {},
     "output_type": "execute_result"
    }
   ],
   "source": [
    "table_blocks = [[50.02735900878906, 842 - 590.7916870117188, 549.476806640625, 842 - 742.76318359375]]\n",
    "#842, 596,\n",
    "table_blocks"
   ]
  },
  {
   "cell_type": "code",
   "execution_count": 3,
   "id": "9ece49bc",
   "metadata": {},
   "outputs": [],
   "source": [
    "import camelot"
   ]
  },
  {
   "cell_type": "code",
   "execution_count": 34,
   "id": "bb0d7013",
   "metadata": {},
   "outputs": [],
   "source": [
    "tables = camelot.read_pdf('page68.pdf', flavor='stream', edge_tol=20, table_regions=['50.02735900878906, 251.20831298828125, 549.476806640625, 99.23681640625'])"
   ]
  },
  {
   "cell_type": "code",
   "execution_count": 35,
   "id": "0c47f58a",
   "metadata": {},
   "outputs": [
    {
     "data": {
      "text/plain": [
       "<TableList n=1>"
      ]
     },
     "execution_count": 35,
     "metadata": {},
     "output_type": "execute_result"
    }
   ],
   "source": [
    "tables"
   ]
  },
  {
   "cell_type": "code",
   "execution_count": 36,
   "id": "80926263",
   "metadata": {
    "scrolled": true
   },
   "outputs": [
    {
     "data": {
      "text/html": [
       "<div>\n",
       "<style scoped>\n",
       "    .dataframe tbody tr th:only-of-type {\n",
       "        vertical-align: middle;\n",
       "    }\n",
       "\n",
       "    .dataframe tbody tr th {\n",
       "        vertical-align: top;\n",
       "    }\n",
       "\n",
       "    .dataframe thead th {\n",
       "        text-align: right;\n",
       "    }\n",
       "</style>\n",
       "<table border=\"1\" class=\"dataframe\">\n",
       "  <thead>\n",
       "    <tr style=\"text-align: right;\">\n",
       "      <th></th>\n",
       "      <th>0</th>\n",
       "      <th>1</th>\n",
       "      <th>2</th>\n",
       "      <th>3</th>\n",
       "      <th>4</th>\n",
       "      <th>5</th>\n",
       "      <th>6</th>\n",
       "    </tr>\n",
       "  </thead>\n",
       "  <tbody>\n",
       "    <tr>\n",
       "      <th>0</th>\n",
       "      <td>Board and Committee Meetings and Attendance</td>\n",
       "      <td></td>\n",
       "      <td></td>\n",
       "      <td></td>\n",
       "      <td></td>\n",
       "      <td></td>\n",
       "      <td></td>\n",
       "    </tr>\n",
       "    <tr>\n",
       "      <th>1</th>\n",
       "      <td></td>\n",
       "      <td></td>\n",
       "      <td></td>\n",
       "      <td></td>\n",
       "      <td>Board Committee Meetings</td>\n",
       "      <td></td>\n",
       "      <td></td>\n",
       "    </tr>\n",
       "    <tr>\n",
       "      <th>2</th>\n",
       "      <td></td>\n",
       "      <td>Board Meetings</td>\n",
       "      <td>Audit</td>\n",
       "      <td>Nomination</td>\n",
       "      <td>Remuneration</td>\n",
       "      <td>Safety</td>\n",
       "      <td>Risk</td>\n",
       "    </tr>\n",
       "    <tr>\n",
       "      <th>3</th>\n",
       "      <td>Lee Boon Yang</td>\n",
       "      <td>11</td>\n",
       "      <td>–</td>\n",
       "      <td>3</td>\n",
       "      <td>4</td>\n",
       "      <td>4</td>\n",
       "      <td>–</td>\n",
       "    </tr>\n",
       "    <tr>\n",
       "      <th>4</th>\n",
       "      <td>Loh Chin Hua</td>\n",
       "      <td>11</td>\n",
       "      <td>–</td>\n",
       "      <td>–</td>\n",
       "      <td>–</td>\n",
       "      <td>4</td>\n",
       "      <td>–</td>\n",
       "    </tr>\n",
       "    <tr>\n",
       "      <th>5</th>\n",
       "      <td>Tow Heng Tan</td>\n",
       "      <td>8</td>\n",
       "      <td>–</td>\n",
       "      <td>3</td>\n",
       "      <td>2</td>\n",
       "      <td>–</td>\n",
       "      <td>4</td>\n",
       "    </tr>\n",
       "    <tr>\n",
       "      <th>6</th>\n",
       "      <td>Alvin Yeo Khirn Hai</td>\n",
       "      <td>9</td>\n",
       "      <td>5</td>\n",
       "      <td>1</td>\n",
       "      <td>–</td>\n",
       "      <td>–</td>\n",
       "      <td>–</td>\n",
       "    </tr>\n",
       "    <tr>\n",
       "      <th>7</th>\n",
       "      <td>Tan Ek Kia</td>\n",
       "      <td>9</td>\n",
       "      <td>5</td>\n",
       "      <td>–</td>\n",
       "      <td>–</td>\n",
       "      <td>4</td>\n",
       "      <td>4</td>\n",
       "    </tr>\n",
       "    <tr>\n",
       "      <th>8</th>\n",
       "      <td>Danny Teoh</td>\n",
       "      <td>10</td>\n",
       "      <td>5</td>\n",
       "      <td>–</td>\n",
       "      <td>4</td>\n",
       "      <td>–</td>\n",
       "      <td>4</td>\n",
       "    </tr>\n",
       "    <tr>\n",
       "      <th>9</th>\n",
       "      <td>Tan Puay Chiang1</td>\n",
       "      <td>10</td>\n",
       "      <td>–</td>\n",
       "      <td>3</td>\n",
       "      <td>–</td>\n",
       "      <td>4</td>\n",
       "      <td>4</td>\n",
       "    </tr>\n",
       "    <tr>\n",
       "      <th>10</th>\n",
       "      <td>Till Vestring</td>\n",
       "      <td>11</td>\n",
       "      <td>–</td>\n",
       "      <td>3</td>\n",
       "      <td>4</td>\n",
       "      <td>–</td>\n",
       "      <td>–</td>\n",
       "    </tr>\n",
       "    <tr>\n",
       "      <th>11</th>\n",
       "      <td>Veronica Eng</td>\n",
       "      <td>11</td>\n",
       "      <td>5</td>\n",
       "      <td>–</td>\n",
       "      <td>–</td>\n",
       "      <td>–</td>\n",
       "      <td>4</td>\n",
       "    </tr>\n",
       "    <tr>\n",
       "      <th>12</th>\n",
       "      <td>Jean-François Manzoni2</td>\n",
       "      <td>3 out of 3</td>\n",
       "      <td>–</td>\n",
       "      <td>–</td>\n",
       "      <td>–</td>\n",
       "      <td>–</td>\n",
       "      <td>–</td>\n",
       "    </tr>\n",
       "    <tr>\n",
       "      <th>13</th>\n",
       "      <td>No. of Meetings Held</td>\n",
       "      <td>11</td>\n",
       "      <td>5</td>\n",
       "      <td>3</td>\n",
       "      <td>4</td>\n",
       "      <td>4</td>\n",
       "      <td>4</td>\n",
       "    </tr>\n",
       "  </tbody>\n",
       "</table>\n",
       "</div>"
      ],
      "text/plain": [
       "                                              0               1      2  \\\n",
       "0   Board and Committee Meetings and Attendance                          \n",
       "1                                                                        \n",
       "2                                                Board Meetings  Audit   \n",
       "3                                 Lee Boon Yang              11      –   \n",
       "4                                  Loh Chin Hua              11      –   \n",
       "5                                  Tow Heng Tan               8      –   \n",
       "6                           Alvin Yeo Khirn Hai               9      5   \n",
       "7                                    Tan Ek Kia               9      5   \n",
       "8                                    Danny Teoh              10      5   \n",
       "9                              Tan Puay Chiang1              10      –   \n",
       "10                                Till Vestring              11      –   \n",
       "11                                 Veronica Eng              11      5   \n",
       "12                       Jean-François Manzoni2      3 out of 3      –   \n",
       "13                         No. of Meetings Held              11      5   \n",
       "\n",
       "             3                         4       5     6  \n",
       "0                                                       \n",
       "1               Board Committee Meetings                \n",
       "2   Nomination              Remuneration  Safety  Risk  \n",
       "3            3                         4       4     –  \n",
       "4            –                         –       4     –  \n",
       "5            3                         2       –     4  \n",
       "6            1                         –       –     –  \n",
       "7            –                         –       4     4  \n",
       "8            –                         4       –     4  \n",
       "9            3                         –       4     4  \n",
       "10           3                         4       –     –  \n",
       "11           –                         –       –     4  \n",
       "12           –                         –       –     –  \n",
       "13           3                         4       4     4  "
      ]
     },
     "execution_count": 36,
     "metadata": {},
     "output_type": "execute_result"
    }
   ],
   "source": [
    "tables[0].df"
   ]
  },
  {
   "cell_type": "code",
   "execution_count": 20,
   "id": "15adb693",
   "metadata": {},
   "outputs": [
    {
     "data": {
      "text/plain": [
       "{'accuracy': 100.0, 'whitespace': 8.73, 'order': 1, 'page': 1}"
      ]
     },
     "execution_count": 20,
     "metadata": {},
     "output_type": "execute_result"
    }
   ],
   "source": [
    "tables[0].parsing_report"
   ]
  },
  {
   "cell_type": "code",
   "execution_count": null,
   "id": "268a1133",
   "metadata": {},
   "outputs": [],
   "source": []
  }
 ],
 "metadata": {
  "kernelspec": {
   "display_name": "Python 3 (ipykernel)",
   "language": "python",
   "name": "python3"
  },
  "language_info": {
   "codemirror_mode": {
    "name": "ipython",
    "version": 3
   },
   "file_extension": ".py",
   "mimetype": "text/x-python",
   "name": "python",
   "nbconvert_exporter": "python",
   "pygments_lexer": "ipython3",
   "version": "3.10.4"
  }
 },
 "nbformat": 4,
 "nbformat_minor": 5
}
